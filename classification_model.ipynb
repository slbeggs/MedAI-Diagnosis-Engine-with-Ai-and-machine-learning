{
 "cells": [
  {
   "cell_type": "markdown",
   "metadata": {},
   "source": [
    "### In this notebook, a classification model is implemented and cosine similarity is performed."
   ]
  },
  {
   "cell_type": "code",
   "metadata": {},
   "outputs": [],
   "source": [
    "import pandas as pd\n",
    "from sklearn.linear_model import LogisticRegression\n",
    "from sklearn.feature_extraction.text import CountVectorizer\n",
    "from sklearn.feature_extraction.text import TfidfVectorizer\n",
    "import re\n",
    "import pickle\n",
    "from numpy import dot\n",
    "from numpy.linalg import norm"
   ]
  },
  {
   "cell_type": "code",
   "metadata": {},
   "outputs": [],
   "source": [
    "# Load the stop words list using pickle\n",
    "with open('stop_words.ob', 'rb') as fp:\n",
    "    domain_stop_word = pickle.load(fp)"
   ]
  },
  {
   "cell_type": "code",
   "metadata": {},
   "outputs": [],
   "source": [
    "# Load the data file\n",
    "file_path = 'diseases_with_description.csv'\n",
    "df = pd.read_csv(file_path)\n",
    "print(df.head())"
   ]
  },
  {
   "cell_type": "code",
   "metadata": {},
   "outputs": [],
   "source": [
    "def clean_text_func(text):\n",
    "    \n",
    "    \"\"\"This function cleans and preprocesses the data.\"\"\"\n",
    "\n",
    "    text = str(text)\n",
    "    text = text.lower()\n",
    "    # Clean the text\n",
    "    text = re.sub(r\"[^A-Za-z0-9^,!?.\\/'+]\", \" \", text)\n",
    "    text = re.sub(r\"\\+\", \" \", text)\n",
    "    text = re.sub(r\",\", \" \", text)\n",
    "    text = re.sub(r\"\\.\", \" \", text)\n",
    "    text = re.sub(r\"!\", \" \", text)\n",
    "    text = re.sub(r\"\\?\", \" \", text)\n",
    "    text = re.sub(r\"'\", \" \", text)\n",
    "    text = re.sub(r\":\", \" : \", text)\n",
    "    text = re.sub(r\"\\s{2,}\", \" \", text)\n",
    "    text = re.sub(r\"[0-9]\", \" \", text)\n",
    "    final_text = \"\"\n",
    "    for x in text.split():\n",
    "        if x not in domain_stop_word:\n",
    "            final_text = final_text + x  +\" \"\n",
    "    return final_text\n",
    "\n",
    "df['Description'] = df['Description'].apply(lambda x: clean_text_func(x))\n",
    "df.head()"
   ]
  },
  {
   "cell_type": "markdown",
   "metadata": {},
   "source": [
    "# Word Embedding:"
   ]
  },
  {
   "cell_type": "code",
   "metadata": {},
   "outputs": [],
   "source": [
    "cv = CountVectorizer(stop_words=\"english\")\n",
    "cv_tfidf = TfidfVectorizer(stop_words=\"english\")\n",
    "\n",
    "X = cv.fit_transform(df['Description'])\n",
    "X_tfidf = cv_tfidf.fit_transform(df['Description'])"
   ]
  },
  {
   "cell_type": "code",
   "metadata": {},
   "outputs": [],
   "source": [
    "df_cv = pd.DataFrame(X.toarray(), columns=cv.get_feature_names_out())\n",
    "df_tfidf = pd.DataFrame(X_tfidf.toarray(), columns=cv_tfidf.get_feature_names_out())"
   ]
  },
  {
   "cell_type": "code",
   "metadata": {},
   "outputs": [],
   "source": [
    "print(df_cv.shape)\n",
    "cosine = lambda v1, v2: dot(v1, v2) / (norm(v1) * norm(v2))"
   ]
  },
  {
   "cell_type": "markdown",
   "metadata": {},
   "source": [
    "### Cosine Similarity"
   ]
  },
  {
   "cell_type": "code",
   "metadata": {},
   "outputs": [],
   "source": [
    "new_text = [\"dizziness loss of balance vomiting tinnitus of hearing in the high frequency range in one ear difficulty focusing your eyes\"]\n",
    "new_text_cv = cv.transform(new_text).toarray()[0]\n",
    "new_text_tfidf = cv_tfidf.transform(new_text).toarray()[0]\n",
    "\n",
    "for chapter_number in range(df.shape[0]):\n",
    "    print(f\"Chapter number: {chapter_number}\")\n",
    "    print(f\"Cosine similarity with CountVectorizer: {cosine(df_cv.iloc[chapter_number], new_text_cv)}\")\n",
    "    print(f\"Cosine similarity with TFIDF: {cosine(df_tfidf.iloc[chapter_number], new_text_tfidf)}\")"
   ]
  },
  {
   "cell_type": "markdown",
   "metadata": {},
   "source": [
    "### Implementation of the classification model: Logistic Regression"
   ]
  },
  {
   "cell_type": "code",
   "metadata": {},
   "outputs": [],
   "source": [
    "X_train = df.Description\n",
    "y_train = df.D_Name"
   ]
  },
  {
   "cell_type": "code",
   "metadata": {},
   "outputs": [],
   "source": [
    "cv1 = CountVectorizer()\n",
    "X_train_cv1 = cv1.fit_transform(X_train)\n",
    "pd_cv1 = pd.DataFrame(X_train_cv1.toarray(), columns=cv1.get_feature_names_out())"
   ]
  },
  {
   "cell_type": "code",
   "metadata": {},
   "outputs": [],
   "source": [
    "lr = LogisticRegression()\n",
    "lr.fit(X_train_cv1, y_train)"
   ]
  },
  {
   "cell_type": "code",
   "metadata": {},
   "outputs": [],
   "source": [
    "X_test = \"Difficulty sleeping or staying asleep Fever Fluid draining from ear Loss of balance. Hearing difficulties. Ear pain\"\n",
    "cleaned_text = clean_text_func(X_test)"
   ]
  },
  {
   "cell_type": "code",
   "metadata": {},
   "outputs": [],
   "source": [
    "X_test_cv3 = cv1.transform([cleaned_text])\n",
    "y_pred_cv3 = lr.predict(X_test_cv3)\n",
    "print(y_pred_cv3)"
   ]
  },
  {
   "cell_type": "markdown",
   "metadata": {},
   "source": [
    "### Conclusion: \n",
    "The model is capable of predicting the disease based on the provided user input."
   ]
  }
 ],
 "metadata": {
  "interpreter": {
   "hash": "e20053a6a21f60b20031b0e753dd017cb749c39f38e8781debb23d87a774e1c7"
  },
  "kernelspec": {
   "display_name": "Python 3.9.2 64-bit ('.venv': venv)",
   "language": "python",
   "name": "python3"
  },
  "language_info": {
   "codemirror_mode": {
    "name": "ipython",
    "version": 3
   },
   "file_extension": ".py",
   "mimetype": "text/x-python",
   "name": "python",
   "nbconvert_exporter": "python",
   "pygments_lexer": "ipython3",
   "version": "3.9.2"
  },
  "orig_nbformat": 4
 },
 "nbformat": 4,
 "nbformat_minor": 2
}

